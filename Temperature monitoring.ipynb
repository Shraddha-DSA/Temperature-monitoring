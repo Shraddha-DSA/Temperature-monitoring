{
 "cells": [
  {
   "cell_type": "code",
   "execution_count": 1,
   "id": "ad62d801-c41d-4d75-ac7b-79247c96d3b4",
   "metadata": {},
   "outputs": [
    {
     "name": "stdout",
     "output_type": "stream",
     "text": [
      "Current Temperature: -5.32°C\n",
      "ALERT: Low Temperature! Stay warm.\n"
     ]
    },
    {
     "name": "stdin",
     "output_type": "stream",
     "text": [
      "Press Enter to check again or type 'exit' to stop:  23\n"
     ]
    },
    {
     "name": "stdout",
     "output_type": "stream",
     "text": [
      "Current Temperature: 33.70°C\n",
      "Temperature is normal.\n"
     ]
    },
    {
     "name": "stdin",
     "output_type": "stream",
     "text": [
      "Press Enter to check again or type 'exit' to stop:  25\n"
     ]
    },
    {
     "name": "stdout",
     "output_type": "stream",
     "text": [
      "Current Temperature: 20.99°C\n",
      "Temperature is normal.\n"
     ]
    },
    {
     "name": "stdin",
     "output_type": "stream",
     "text": [
      "Press Enter to check again or type 'exit' to stop:  78\n"
     ]
    },
    {
     "name": "stdout",
     "output_type": "stream",
     "text": [
      "Current Temperature: 7.94°C\n",
      "Temperature is normal.\n"
     ]
    },
    {
     "name": "stdin",
     "output_type": "stream",
     "text": [
      "Press Enter to check again or type 'exit' to stop:  21\n"
     ]
    },
    {
     "name": "stdout",
     "output_type": "stream",
     "text": [
      "Current Temperature: 44.84°C\n",
      "ALERT: High Temperature! Take necessary precautions.\n"
     ]
    },
    {
     "name": "stdin",
     "output_type": "stream",
     "text": [
      "Press Enter to check again or type 'exit' to stop:  exit\n"
     ]
    }
   ],
   "source": [
    "#Develop a function to monitor temperature and provide a alert\n",
    "import random\n",
    "def monitor_temperature(temp):\n",
    "    if temp>40:\n",
    "        return \"ALERT: High Temperature! Take necessary precautions.\"\n",
    "    elif temp < 5:\n",
    "        return \"ALERT: Low Temperature! Stay warm.\"\n",
    "    else:\n",
    "        return \"Temperature is normal.\"\n",
    "while True:\n",
    "    temp = random.uniform(-10, 50)\n",
    "    print(f\"Current Temperature: {temp:.2f}°C\")\n",
    "    alert_message = monitor_temperature(temp)\n",
    "    print(alert_message)\n",
    "    \n",
    "    user_input = input(\"Press Enter to check again or type 'exit' to stop: \")\n",
    "    if user_input.lower() == 'exit':\n",
    "        break\n"
   ]
  },
  {
   "cell_type": "code",
   "execution_count": null,
   "id": "a035bc8a-9ba9-4d63-bb58-2a5017f78e5e",
   "metadata": {},
   "outputs": [],
   "source": []
  }
 ],
 "metadata": {
  "kernelspec": {
   "display_name": "Python 3 (ipykernel)",
   "language": "python",
   "name": "python3"
  },
  "language_info": {
   "codemirror_mode": {
    "name": "ipython",
    "version": 3
   },
   "file_extension": ".py",
   "mimetype": "text/x-python",
   "name": "python",
   "nbconvert_exporter": "python",
   "pygments_lexer": "ipython3",
   "version": "3.13.2"
  }
 },
 "nbformat": 4,
 "nbformat_minor": 5
}
